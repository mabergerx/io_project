{
 "cells": [
  {
   "cell_type": "code",
   "execution_count": 2,
   "metadata": {},
   "outputs": [],
   "source": [
    "import json \n",
    "import pandas as pd \n",
    "from pandas.io.json import json_normalize #package for flattening json in pandas df\n",
    "import numpy as np"
   ]
  },
  {
   "cell_type": "markdown",
   "metadata": {},
   "source": [
    "## Loading the whole raw dataset."
   ]
  },
  {
   "cell_type": "code",
   "execution_count": 3,
   "metadata": {},
   "outputs": [],
   "source": [
    "# all_performances = pd.read_csv(\"perf-history/ny_phil.csv\")"
   ]
  },
  {
   "cell_type": "markdown",
   "metadata": {},
   "source": [
    "## Converting string dates to datetimes; creating seperate date related columns; converting programID to integer."
   ]
  },
  {
   "cell_type": "code",
   "execution_count": null,
   "metadata": {},
   "outputs": [],
   "source": [
    "all_performances['Date'] =  pd.to_datetime(head['Date'])\n",
    "\n",
    "all_performances['year'] = all_performances['Date'].dt.year\n",
    "all_performances['month'] = all_performances['Date'].dt.month\n",
    "all_performances['day'] = all_performances['Date'].dt.day\n",
    "\n",
    "# Dropping the initial column as no longer relevant.\n",
    "all_performances.drop(\"Date\", inplace=True, axis=1)\n",
    "\n",
    "all_performances = all_performances.astype({\"programID\": int})"
   ]
  },
  {
   "cell_type": "markdown",
   "metadata": {},
   "source": [
    "## Cleaning the data from meaningless rows such as rows not having to a programID, and not having any soloist. \n",
    "### This removed ~ 40k rows."
   ]
  },
  {
   "cell_type": "code",
   "execution_count": null,
   "metadata": {},
   "outputs": [],
   "source": [
    "all_performances = all_performances[all_performances.programID.notnull()]\n",
    "all_performances = all_performances[all_performances.soloistName.notnull() \n",
    "                                    & all_performances.soloistRoles.notnull() & all_performances.soloistInstrument.notnull()]"
   ]
  },
  {
   "cell_type": "markdown",
   "metadata": {},
   "source": [
    "## Creating utility functions to re-format date and time, location column and add season data."
   ]
  },
  {
   "cell_type": "code",
   "execution_count": null,
   "metadata": {},
   "outputs": [],
   "source": [
    "def split_location(location):\n",
    "    \n",
    "    split_ = location.split(\",\", 1)\n",
    "    city = \"-\"\n",
    "    state = \"-\"\n",
    "    country = \"-\"\n",
    "    try:\n",
    "        if len(split_[1].strip()) > 2:\n",
    "            country = split_[1].strip().title()\n",
    "            city = split_[0].strip()\n",
    "        else:\n",
    "            city = split_[0].strip()\n",
    "            state = split_[1].strip()\n",
    "            country = \"USA\"\n",
    "        return [country, city, state]\n",
    "    except:\n",
    "        city = location.title()\n",
    "        return [country, city, state]"
   ]
  },
  {
   "cell_type": "code",
   "execution_count": null,
   "metadata": {},
   "outputs": [],
   "source": [
    "def split_starting_time(time):\n",
    "    \n",
    "    split_ = time.split(\":\")\n",
    "    hour = None\n",
    "    minute = None\n",
    "    \n",
    "    if time == \"None\" or not time:\n",
    "        return [\"None\", \"None\"]\n",
    "    \n",
    "    try:\n",
    "        # Checking if last two elements of time \n",
    "        # is AM and first two elements are 12 \n",
    "        if time[-2:] == \"AM\" and time[:2] == \"12\": \n",
    "            hour = \"00\"\n",
    "            minute = time.split(\":\")[1].strip(\"AM\")\n",
    "#             return \"00\" + time[2:-2] \n",
    "\n",
    "        # remove the AM     \n",
    "        elif time[-2:] == \"AM\": \n",
    "            hour = time.split(\":\")[0]\n",
    "            minute = time.split(\":\")[1].strip(\"AM\")\n",
    "\n",
    "        # Checking if last two elements of time \n",
    "        # is PM and first two elements are 12    \n",
    "        elif time[-2:] == \"PM\" and time[:2] == \"12\": \n",
    "            hour = time.split(\":\")[0]\n",
    "            minute = time.split(\":\")[1].strip(\"PM\")\n",
    "\n",
    "        else: \n",
    "            hour = str(int(time[:1]) + 12)\n",
    "            minute = time[2:].strip(\"PM\").strip(\"AM\")\n",
    "            \n",
    "        return [hour, minute]\n",
    "\n",
    "    except:\n",
    "        return time"
   ]
  },
  {
   "cell_type": "code",
   "execution_count": null,
   "metadata": {},
   "outputs": [],
   "source": [
    "def seasonOfYear(month):\n",
    "    if month in [12, 1, 2]:\n",
    "        return \"Winter\"\n",
    "    elif month in [3, 4, 5]:\n",
    "        return \"Spring\"\n",
    "    elif month in [6, 7, 8]:\n",
    "        return \"Summer\"\n",
    "    elif month in [9, 10, 11]:\n",
    "        return \"Autumn\"\n",
    "    else:\n",
    "        return \"Undefined\""
   ]
  },
  {
   "cell_type": "markdown",
   "metadata": {},
   "source": [
    "## Applying the functions defined above to the dataset."
   ]
  },
  {
   "cell_type": "code",
   "execution_count": null,
   "metadata": {},
   "outputs": [],
   "source": [
    "all_performances['Country'] = all_performances['Location'].apply(lambda x: split_location(x)[0])\n",
    "all_performances['City'] = all_performances['Location'].apply(lambda x: split_location(x)[1])\n",
    "all_performances['State'] = all_performances['Location'].apply(lambda x: split_location(x)[2])\n",
    "\n",
    "all_performances['startingHour'] = all_performances['Time'].apply(lambda x: split_starting_time(x)[0])\n",
    "all_performances['startingMinute'] = all_performances['Time'].apply(lambda x: split_starting_time(x)[1])\n",
    "\n",
    "all_performances['seasonOfYear'] = all_performances['month'].apply(lambda x: seasonOfYear(x))\n",
    "\n",
    "# Drop the now useless columns.\n",
    "all_performances.drop(\"Location\", inplace=True, axis=1) \n",
    "all_performances.drop(\"soloistRoles\", inplace=True, axis=1) \n",
    "all_performances.drop(\"Time\", inplace=True, axis=1) "
   ]
  },
  {
   "cell_type": "markdown",
   "metadata": {},
   "source": [
    "## Creating geo-code mapping for the graph vizualisation."
   ]
  },
  {
   "cell_type": "code",
   "execution_count": null,
   "metadata": {},
   "outputs": [],
   "source": [
    "def make_geocode(country):\n",
    "    \n",
    "    if country in {\"USA\"}:\n",
    "        return \"USA\"\n",
    "    elif country in {\"Canada\"}:\n",
    "        return \"CAN\"\n",
    "    elif country == \"France\":\n",
    "        return \"FRA\"\n",
    "    elif country == \"Netherlands\":\n",
    "        return \"NLD\"\n",
    "    elif country in {\"England\", \"Scotland\"}:\n",
    "        return \"GBR\"\n",
    "    elif country == \"Hungary\":\n",
    "        return \"HUN\"\n",
    "    elif country == 'Czech Republic':\n",
    "        return \"CZE\"\n",
    "    elif country in {'Germany'}:\n",
    "        return \"DEU\"\n",
    "    elif country == 'Switzerland':\n",
    "        return \"CHE\"\n",
    "    elif country == 'Panama':\n",
    "        return \"PAN\"\n",
    "    elif country == 'Venezuela':\n",
    "        return \"VEN\"\n",
    "    elif country == 'Colombia':\n",
    "        return \"COL\"\n",
    "    elif country == 'Ecuador':\n",
    "        return \"ECU\"\n",
    "    elif country == 'Peru':\n",
    "        return \"PER\"\n",
    "    elif country == 'Paraguay':\n",
    "        return \"URY\"\n",
    "    elif country == 'Chile':\n",
    "        return \"CHL\"\n",
    "    elif country == 'Uruguay':\n",
    "        return \"URY\"\n",
    "    elif country == 'Argentina':\n",
    "        return \"ARG\"\n",
    "    elif country == 'Greece':\n",
    "        return \"GRC\"\n",
    "    elif country == 'Turkey':\n",
    "        return \"TUR\"\n",
    "    elif country == 'Austria':\n",
    "        return \"AUT\"\n",
    "    elif country == 'Poland':\n",
    "        return \"POL\"\n",
    "    elif country in {'Russia'}:\n",
    "        return \"RUS\"\n",
    "    elif country == 'Serbia':\n",
    "        return \"SRB\"\n",
    "    elif country == 'Croatia':\n",
    "        return \"HRV\"\n",
    "    elif country in {'Italy'}:\n",
    "        return \"ITA\"\n",
    "    elif country == 'Norway':\n",
    "        return \"NOR\"\n",
    "    elif country == 'Finland':\n",
    "        return \"FIN\"\n",
    "    elif country == 'Sweden':\n",
    "        return \"SWE\"\n",
    "    elif country == 'Japan':\n",
    "        return \"JPN\"\n",
    "    elif country == 'Belgium':\n",
    "        return \"BEL\"\n",
    "    elif country == 'Israel':\n",
    "        return \"ISR\"\n",
    "    elif country == 'Portugal':\n",
    "        return \"PRT\"\n",
    "    elif country in {'Spain'}:\n",
    "        return \"ESP\"\n",
    "    elif country == 'New Zealand':\n",
    "        return \"NZL\"\n",
    "    elif country == 'Australia':\n",
    "        return \"AUS\"\n",
    "    elif country == 'Denmark':\n",
    "        return \"DNK\"\n",
    "    elif country in {'South Korea'}:\n",
    "        return \"KOR\"\n",
    "    elif country == 'Dominican Republic':\n",
    "        return \"DOM\"\n",
    "    elif country == 'Mexico':\n",
    "        return \"MEX\"\n",
    "    elif country == 'Brazil':\n",
    "        return \"BRA\"\n",
    "    elif country == 'Taiwan':\n",
    "        return \"TWN\"\n",
    "    elif country == 'China':\n",
    "        return \"CHN\"\n",
    "    elif country == 'Thailand':\n",
    "        return \"THA\"\n",
    "    elif country == 'Luxembourg':\n",
    "        return \"LUX\"\n",
    "    elif country == 'The Philippines':\n",
    "        return \"PHL\"\n",
    "    elif country == 'Malaysia':\n",
    "        return \"MYS\"\n",
    "    elif country == 'Puerto Rico':\n",
    "        return \"PRI\"\n",
    "    elif country == 'Vietnam':\n",
    "        return \"VNM\"\n",
    "    elif country == 'United Arab Emirates':\n",
    "        return \"ARE\"\n",
    "    elif country in {\"India\"}:\n",
    "        return \"IND\"\n",
    "    elif country == \"Indonesia\":\n",
    "        return \"IDN\"\n",
    "    elif country == \"Ireland\":\n",
    "        return \"IRL\"\n",
    "    else:\n",
    "        return \"-\"\n",
    "    \n",
    "geo_codes = {country: make_geocode(country) for country in nyphil.Country.unique()}  \n",
    "country_per_code = {v: k for k, v in geo_codes.items()}"
   ]
  },
  {
   "cell_type": "markdown",
   "metadata": {},
   "source": [
    "## Creating separate location dataframes, one per state and per country and applying the geo-code mapping."
   ]
  },
  {
   "cell_type": "code",
   "execution_count": null,
   "metadata": {},
   "outputs": [],
   "source": [
    "location_events = nyphil[nyphil['geocode'] != \"-\"].groupby('geocode')['programID'].nunique().reset_index(name=\"count\").sort_values(\n",
    "    by=\"count\", ascending=True)\n",
    "location_events_state = nyphil[nyphil['State'] != \"-\"].groupby('State')['programID'].nunique().reset_index(name=\"count\").sort_values(\n",
    "    by=\"count\", ascending=True)\n",
    "location_events_per_country[\"country\"] = location_events_per_country['geocode'].apply(lambda x: country_per_code[x])"
   ]
  },
  {
   "cell_type": "code",
   "execution_count": null,
   "metadata": {},
   "outputs": [],
   "source": [
    "all_yr_dfs_state = []\n",
    "for y in nyphil.year.unique():\n",
    "    testyrdf = nyphil[(nyphil['State'] != \"-\") & (nyphil['year'] == y)].groupby(['State', 'year'])['programID'].nunique().reset_index(name=\"count\").sort_values(by=\"count\", ascending=True)\n",
    "    all_yr_dfs_state.append(testyrdf)\n",
    "\n",
    "big_location_aggregation_state = pd.concat(all_yr_dfs_state)"
   ]
  },
  {
   "cell_type": "markdown",
   "metadata": {},
   "source": [
    "## Scaling the counts to logarithm of it, to facilitate better visuzaliation due to outliers."
   ]
  },
  {
   "cell_type": "code",
   "execution_count": null,
   "metadata": {},
   "outputs": [],
   "source": [
    "big_location_aggregation_state['log_count'] = big_location_aggregation_state['count'].apply(lambda x: np.log(x) if np.log(x) != 0 else 0.5)\n",
    "big_location_aggregation['log_count'] = big_location_aggregation['count'].apply(lambda x: np.log(x) if np.log(x) != 0 else 0.5)"
   ]
  }
 ],
 "metadata": {
  "kernelspec": {
   "display_name": "Python 3",
   "language": "python",
   "name": "python3"
  },
  "language_info": {
   "codemirror_mode": {
    "name": "ipython",
    "version": 3
   },
   "file_extension": ".py",
   "mimetype": "text/x-python",
   "name": "python",
   "nbconvert_exporter": "python",
   "pygments_lexer": "ipython3",
   "version": "3.6.1"
  }
 },
 "nbformat": 4,
 "nbformat_minor": 2
}
